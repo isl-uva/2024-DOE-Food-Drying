{
 "cells": [
  {
   "cell_type": "code",
   "execution_count": null,
   "id": "33d2ca41-2fef-4f79-85ab-68335d8de7cc",
   "metadata": {},
   "outputs": [],
   "source": [
    "import gym\n",
    "from gym import error, spaces, utils\n",
    "from gym.utils import seeding\n",
    "class Basic(gym.Env):\n",
    "    metadata = {'render.modes': ['human']}\n",
    "def __init__(self):\n",
    "        print('init basic')\n",
    "        \n",
    "    def step(self, action):\n",
    "        print('step')\n",
    "    \n",
    "    def reset(self):\n",
    "        print('reset')\n",
    "    \n",
    "    def render(self, mode='human'):\n",
    "        print('render')\n",
    "    \n",
    "    def close(self):\n",
    "        print('close')"
   ]
  },
  {
   "cell_type": "code",
   "execution_count": null,
   "id": "a14dc73f-8758-45ba-8db2-1acc3f1478d6",
   "metadata": {},
   "outputs": [],
   "source": []
  }
 ],
 "metadata": {
  "kernelspec": {
   "display_name": "DOEmaddpg",
   "language": "python",
   "name": "doemaddpg"
  },
  "language_info": {
   "codemirror_mode": {
    "name": "ipython",
    "version": 3
   },
   "file_extension": ".py",
   "mimetype": "text/x-python",
   "name": "python",
   "nbconvert_exporter": "python",
   "pygments_lexer": "ipython3",
   "version": "3.12.4"
  }
 },
 "nbformat": 4,
 "nbformat_minor": 5
}
