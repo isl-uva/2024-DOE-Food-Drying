{
 "cells": [
  {
   "cell_type": "code",
   "execution_count": 1,
   "id": "581dc6dd-f901-4b4b-a56a-7d370fdd5d4d",
   "metadata": {},
   "outputs": [],
   "source": [
    "from gym import Env\n",
    "from gym.spaces import Discrete, Box, Tuple\n",
    "import numpy as np\n",
    "import random\n",
    "import matplotlib.pyplot as plt\n",
    "from pyfmi import load_fmu\n",
    "from Dymola_Env import DymolaEnv, scale_and_clamp_values"
   ]
  },
  {
   "cell_type": "code",
   "execution_count": null,
   "id": "94c8947b-7979-4baf-ae0e-42bca1f90c65",
   "metadata": {},
   "outputs": [
    {
     "name": "stderr",
     "output_type": "stream",
     "text": [
      "/home/tianxu/anaconda3/envs/DOEmaddpg/lib/python3.10/site-packages/gym/spaces/box.py:127: UserWarning: \u001b[33mWARN: Box bound precision lowered by casting to float32\u001b[0m\n",
      "  logger.warn(f\"Box bound precision lowered by casting to {self.dtype}\")\n"
     ]
    },
    {
     "name": "stdout",
     "output_type": "stream",
     "text": [
      "success boot\n",
      "reset activate\n"
     ]
    }
   ],
   "source": [
    "env=DymolaEnv()\n",
    "episodes=1\n",
    "\n",
    "\n",
    "for episode in range(1, episodes+1):\n",
    "    time=[]\n",
    "    Temp_fc=[]\n",
    "    RH_fc=[]\n",
    "    Energy=[]\n",
    "    Flow_r=[]\n",
    "    N=[]\n",
    "    Tset2=[]\n",
    "    score_all=[]\n",
    "\n",
    "    \n",
    "    n_state,info=env.reset()\n",
    "    done = False\n",
    "    score = 0\n",
    "    count=0\n",
    "\n",
    "    while not done:\n",
    "        action=[0.4,env.action_space[0].sample().item(),env.action_space[1].sample().item(),0.5,273.15+46,env.action_space[2].sample().item()]\n",
    "        n_state, reward_env, done_env, info = env.step(action)\n",
    "        reward=reward_env['agent_0']\n",
    "        done=done_env['agent_0']\n",
    "        \n",
    "        score+=reward\n",
    "\n",
    "        \n",
    "\n",
    "        count+=1\n",
    "\n",
    "        score_all.append(score)\n",
    "        time.append(env.current_time/60.0)\n",
    "        Temp_fc.append(env.state[27]-273.15)\n",
    "        RH_fc.append(100*env.state[28])\n",
    "        Energy.append(env.energy)\n",
    "        Flow_r.append(action[1])\n",
    "        N.append(action[2])\n",
    "        Tset2.append(action[5]-273.15)"
   ]
  },
  {
   "cell_type": "code",
   "execution_count": null,
   "id": "b60da65a-fc4d-4e01-930b-23bd65a3ecf9",
   "metadata": {},
   "outputs": [],
   "source": []
  }
 ],
 "metadata": {
  "kernelspec": {
   "display_name": "Python 3 (ipykernel)",
   "language": "python",
   "name": "python3"
  },
  "language_info": {
   "codemirror_mode": {
    "name": "ipython",
    "version": 3
   },
   "file_extension": ".py",
   "mimetype": "text/x-python",
   "name": "python",
   "nbconvert_exporter": "python",
   "pygments_lexer": "ipython3",
   "version": "3.10.14"
  }
 },
 "nbformat": 4,
 "nbformat_minor": 5
}
