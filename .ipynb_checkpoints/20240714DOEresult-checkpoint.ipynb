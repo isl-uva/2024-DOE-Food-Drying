{
 "cells": [
  {
   "cell_type": "code",
   "execution_count": 3,
   "id": "050e24b9-8ddd-49c8-a8a9-ea4ba7bb094c",
   "metadata": {},
   "outputs": [
    {
     "name": "stderr",
     "output_type": "stream",
     "text": [
      "usage: MADDGP Framworks Hyper Parasmeters [-h] [--alpha ALPHA] [--beta BETA]\n",
      "                                          [--actor_states_dims ACTOR_STATES_DIMS]\n",
      "                                          [--actor_fc1 ACTOR_FC1]\n",
      "                                          [--actor_fc2 ACTOR_FC2]\n",
      "                                          [--actor_fc3 ACTOR_FC3]\n",
      "                                          [--critic_fc1 CRITIC_FC1]\n",
      "                                          [--critic_fc2 CRITIC_FC2]\n",
      "                                          [--critic_fc3 CRITIC_FC3]\n",
      "                                          [--n_actions N_ACTIONS]\n",
      "                                          [--n_agents N_AGENTS]\n",
      "                                          [--chkpt_dir CHKPT_DIR]\n",
      "                                          [--gamma GAMMA] [--tau TAU]\n",
      "                                          [--buffer_max_size BUFFER_MAX_SIZE]\n",
      "                                          [--buffer_batch_size BUFFER_BATCH_SIZE]\n",
      "MADDGP Framworks Hyper Parasmeters: error: unrecognized arguments: -f /home/tianxu/.local/share/jupyter/runtime/kernel-92be4f98-7346-4747-adfc-8c762f432d3d.json\n"
     ]
    },
    {
     "ename": "SystemExit",
     "evalue": "2",
     "output_type": "error",
     "traceback": [
      "An exception has occurred, use %tb to see the full traceback.\n",
      "\u001b[0;31mSystemExit\u001b[0m\u001b[0;31m:\u001b[0m 2\n"
     ]
    }
   ],
   "source": [
    "# Import tool files\n",
    "from maddpg.maddpg import MADDPG\n",
    "from utils import functions\n",
    "from hyper_parameters import hyper_parameters\n",
    "from Dymola_Env import DymolaEnv, scale_and_clamp_values\n",
    "\n",
    "\n",
    "# Accept hyperparameters\n",
    "hyper_paras = hyper_parameters()\n",
    "parse_args_maddpg = hyper_paras.parse_args_maddpg()\n",
    "# Instantiation environments and algorithmsren\n",
    "env = DymolaEnv()\n",
    "maddpg = MADDPG(parse_args=parse_args_maddpg)\n",
    "\n",
    "maddpg.load_checkpoint()\n",
    "\n",
    "#action boundary value\n",
    "action_lower_bounds=[0.25,0.25,1,0.3,273.15,273.15]\n",
    "action_upper_bounds=[0.8,0.8,100,0.6,333.15,353.15]\n",
    "\n",
    "# max epoch\n",
    "num_epoch = 1\n",
    "# max step for each game\n",
    "max_step = int(env.end_time/env.step_size)\n",
    "\n",
    "# epoch loop\n",
    "for epoch in range(num_epoch):\n",
    "    #save data for plot\n",
    "    time=[]\n",
    "    Temp_fc=[]\n",
    "    RH_fc=[]\n",
    "    Energy=[]\n",
    "    Flow_r=[]\n",
    "    N=[]\n",
    "    Tset2=[]\n",
    "    score_all=[]\n",
    "    score = 0\n",
    "    count=0\n",
    "    # reset env\n",
    "    obs_env, infos = env.reset()\n",
    "    # step loop\n",
    "    for step in range(max_step):\n",
    "\n",
    "        # Convert the data format of the state space to dict array\n",
    "        critic_state, actor_state = functions.obs_dict_to_array(obs_env)\n",
    "        # get action\n",
    "        actions = maddpg.choose_action(actor_state)\n",
    "        # Convert action to dict\n",
    "        action_env = functions.action_array_to_dict(actions)\n",
    "        #convert action to correct range\n",
    "        action_input = [(0.4 - 0.25) / (0.8 - 0.25), actions[0], actions[1], (0.5 - 0.3) / 0.3, 46 / 60,\n",
    "                        actions[2]]\n",
    "        action_output = scale_and_clamp_values(action_input, action_lower_bounds, action_upper_bounds)\n",
    "        \n",
    "        # step action\n",
    "        obs_next_env, rewards_env, terminations_env, infos = env.step(action_output)\n",
    "        # Get new state data\n",
    "        critic_state_next, actor_state_next = functions.obs_dict_to_array(obs_next_env)\n",
    "        # state transfer\n",
    "        obs_env = obs_next_env\n",
    "\n",
    "        reward=rewards_env['agent_0']\n",
    "        \n",
    "        score+=reward\n",
    "\n",
    "        \n",
    "\n",
    "        count+=1\n",
    "\n",
    "        score_all.append(score)\n",
    "        time.append(env.current_time/60.0)\n",
    "        Temp_fc.append(env.state[27]-273.15)\n",
    "        RH_fc.append(100*env.state[28])\n",
    "        Energy.append(env.energy)\n",
    "        Flow_r.append(action[1])\n",
    "        N.append(action[2])\n",
    "        Tset2.append(action[5]-273.15)\n",
    "\n",
    "        # time.sleep(0.1)\n",
    "\n",
    "\n",
    "\n"
   ]
  },
  {
   "cell_type": "code",
   "execution_count": 2,
   "id": "ca3196fa-eabc-45b7-ac8c-4e988920805a",
   "metadata": {},
   "outputs": [
    {
     "ename": "SystemExit",
     "evalue": "2",
     "output_type": "error",
     "traceback": [
      "\u001b[0;31m---------------------------------------------------------------------------\u001b[0m",
      "\u001b[0;31mSystemExit\u001b[0m                                Traceback (most recent call last)",
      "Cell \u001b[0;32mIn[1], line 10\u001b[0m\n\u001b[1;32m      8\u001b[0m \u001b[38;5;66;03m# Accept hyperparameters\u001b[39;00m\n\u001b[1;32m      9\u001b[0m hyper_paras \u001b[38;5;241m=\u001b[39m hyper_parameters()\n\u001b[0;32m---> 10\u001b[0m parse_args_maddpg \u001b[38;5;241m=\u001b[39m \u001b[43mhyper_paras\u001b[49m\u001b[38;5;241;43m.\u001b[39;49m\u001b[43mparse_args_maddpg\u001b[49m\u001b[43m(\u001b[49m\u001b[43m)\u001b[49m\n\u001b[1;32m     11\u001b[0m \u001b[38;5;66;03m# Instantiation environments and algorithmsren\u001b[39;00m\n\u001b[1;32m     12\u001b[0m env \u001b[38;5;241m=\u001b[39m DymolaEnv()\n",
      "File \u001b[0;32m~/Documents/DOEfooddrying/Dymola_maddpg/hyper_parameters.py:28\u001b[0m, in \u001b[0;36mhyper_parameters.parse_args_maddpg\u001b[0;34m(self)\u001b[0m\n\u001b[1;32m     25\u001b[0m parser\u001b[38;5;241m.\u001b[39madd_argument(\u001b[38;5;124m\"\u001b[39m\u001b[38;5;124m--buffer_max_size\u001b[39m\u001b[38;5;124m\"\u001b[39m, \u001b[38;5;28mtype\u001b[39m\u001b[38;5;241m=\u001b[39m\u001b[38;5;28mint\u001b[39m, default\u001b[38;5;241m=\u001b[39m\u001b[38;5;241m100000\u001b[39m, help\u001b[38;5;241m=\u001b[39m\u001b[38;5;124m\"\u001b[39m\u001b[38;5;124mMaximum data capacity of experience replay\u001b[39m\u001b[38;5;124m\"\u001b[39m)\n\u001b[1;32m     26\u001b[0m parser\u001b[38;5;241m.\u001b[39madd_argument(\u001b[38;5;124m\"\u001b[39m\u001b[38;5;124m--buffer_batch_size\u001b[39m\u001b[38;5;124m\"\u001b[39m, \u001b[38;5;28mtype\u001b[39m\u001b[38;5;241m=\u001b[39m\u001b[38;5;28mint\u001b[39m , default\u001b[38;5;241m=\u001b[39m\u001b[38;5;241m1024\u001b[39m, help\u001b[38;5;241m=\u001b[39m\u001b[38;5;124m\"\u001b[39m\u001b[38;5;124mmaddpg learn batch_size\u001b[39m\u001b[38;5;124m\"\u001b[39m)\n\u001b[0;32m---> 28\u001b[0m \u001b[38;5;28;01mreturn\u001b[39;00m \u001b[43mparser\u001b[49m\u001b[38;5;241;43m.\u001b[39;49m\u001b[43mparse_args\u001b[49m\u001b[43m(\u001b[49m\u001b[43m)\u001b[49m\n",
      "File \u001b[0;32m~/anaconda3/envs/DOEmaddpg/lib/python3.10/argparse.py:1836\u001b[0m, in \u001b[0;36mArgumentParser.parse_args\u001b[0;34m(self, args, namespace)\u001b[0m\n\u001b[1;32m   1834\u001b[0m \u001b[38;5;28;01mif\u001b[39;00m argv:\n\u001b[1;32m   1835\u001b[0m     msg \u001b[38;5;241m=\u001b[39m _(\u001b[38;5;124m'\u001b[39m\u001b[38;5;124munrecognized arguments: \u001b[39m\u001b[38;5;132;01m%s\u001b[39;00m\u001b[38;5;124m'\u001b[39m)\n\u001b[0;32m-> 1836\u001b[0m     \u001b[38;5;28;43mself\u001b[39;49m\u001b[38;5;241;43m.\u001b[39;49m\u001b[43merror\u001b[49m\u001b[43m(\u001b[49m\u001b[43mmsg\u001b[49m\u001b[43m \u001b[49m\u001b[38;5;241;43m%\u001b[39;49m\u001b[43m \u001b[49m\u001b[38;5;124;43m'\u001b[39;49m\u001b[38;5;124;43m \u001b[39;49m\u001b[38;5;124;43m'\u001b[39;49m\u001b[38;5;241;43m.\u001b[39;49m\u001b[43mjoin\u001b[49m\u001b[43m(\u001b[49m\u001b[43margv\u001b[49m\u001b[43m)\u001b[49m\u001b[43m)\u001b[49m\n\u001b[1;32m   1837\u001b[0m \u001b[38;5;28;01mreturn\u001b[39;00m args\n",
      "File \u001b[0;32m~/anaconda3/envs/DOEmaddpg/lib/python3.10/argparse.py:2594\u001b[0m, in \u001b[0;36mArgumentParser.error\u001b[0;34m(self, message)\u001b[0m\n\u001b[1;32m   2592\u001b[0m \u001b[38;5;28mself\u001b[39m\u001b[38;5;241m.\u001b[39mprint_usage(_sys\u001b[38;5;241m.\u001b[39mstderr)\n\u001b[1;32m   2593\u001b[0m args \u001b[38;5;241m=\u001b[39m {\u001b[38;5;124m'\u001b[39m\u001b[38;5;124mprog\u001b[39m\u001b[38;5;124m'\u001b[39m: \u001b[38;5;28mself\u001b[39m\u001b[38;5;241m.\u001b[39mprog, \u001b[38;5;124m'\u001b[39m\u001b[38;5;124mmessage\u001b[39m\u001b[38;5;124m'\u001b[39m: message}\n\u001b[0;32m-> 2594\u001b[0m \u001b[38;5;28;43mself\u001b[39;49m\u001b[38;5;241;43m.\u001b[39;49m\u001b[43mexit\u001b[49m\u001b[43m(\u001b[49m\u001b[38;5;241;43m2\u001b[39;49m\u001b[43m,\u001b[49m\u001b[43m \u001b[49m\u001b[43m_\u001b[49m\u001b[43m(\u001b[49m\u001b[38;5;124;43m'\u001b[39;49m\u001b[38;5;132;43;01m%(prog)s\u001b[39;49;00m\u001b[38;5;124;43m: error: \u001b[39;49m\u001b[38;5;132;43;01m%(message)s\u001b[39;49;00m\u001b[38;5;130;43;01m\\n\u001b[39;49;00m\u001b[38;5;124;43m'\u001b[39;49m\u001b[43m)\u001b[49m\u001b[43m \u001b[49m\u001b[38;5;241;43m%\u001b[39;49m\u001b[43m \u001b[49m\u001b[43margs\u001b[49m\u001b[43m)\u001b[49m\n",
      "File \u001b[0;32m~/anaconda3/envs/DOEmaddpg/lib/python3.10/argparse.py:2581\u001b[0m, in \u001b[0;36mArgumentParser.exit\u001b[0;34m(self, status, message)\u001b[0m\n\u001b[1;32m   2579\u001b[0m \u001b[38;5;28;01mif\u001b[39;00m message:\n\u001b[1;32m   2580\u001b[0m     \u001b[38;5;28mself\u001b[39m\u001b[38;5;241m.\u001b[39m_print_message(message, _sys\u001b[38;5;241m.\u001b[39mstderr)\n\u001b[0;32m-> 2581\u001b[0m \u001b[43m_sys\u001b[49m\u001b[38;5;241;43m.\u001b[39;49m\u001b[43mexit\u001b[49m\u001b[43m(\u001b[49m\u001b[43mstatus\u001b[49m\u001b[43m)\u001b[49m\n",
      "\u001b[0;31mSystemExit\u001b[0m: 2"
     ]
    }
   ],
   "source": [
    "%tb"
   ]
  },
  {
   "cell_type": "code",
   "execution_count": 12,
   "id": "ca57ccfc-c41b-43c9-ae78-baeb3fceff80",
   "metadata": {},
   "outputs": [
    {
     "name": "stdout",
     "output_type": "stream",
     "text": [
      "random step: 0\n",
      "random step: 1\n",
      "random step: 2\n",
      "random step: 3\n",
      "step: 4\n",
      "step: 5\n",
      "step: 6\n",
      "step: 7\n",
      "step: 8\n",
      "step: 9\n",
      "step: 10\n",
      "step: 11\n",
      "step: 12\n",
      "step: 13\n",
      "step: 14\n",
      "step: 15\n",
      "step: 16\n",
      "step: 17\n",
      "step: 18\n",
      "step: 19\n"
     ]
    }
   ],
   "source": [
    "import random\n",
    "\n",
    "# Generate a random integer between 1 and 10 (inclusive)\n",
    "random_step_size = random.randint(1, 10)\n",
    "for i in range(random_step_size):\n",
    "    print(f'random step: {i}')\n",
    "\n",
    "for step in range(i+1,20):\n",
    "    print(f'step: {step}')\n"
   ]
  },
  {
   "cell_type": "code",
   "execution_count": null,
   "id": "c156153d-6d5c-421f-b54a-18e09fcb4922",
   "metadata": {},
   "outputs": [],
   "source": []
  }
 ],
 "metadata": {
  "kernelspec": {
   "display_name": "Python 3 (ipykernel)",
   "language": "python",
   "name": "python3"
  },
  "language_info": {
   "codemirror_mode": {
    "name": "ipython",
    "version": 3
   },
   "file_extension": ".py",
   "mimetype": "text/x-python",
   "name": "python",
   "nbconvert_exporter": "python",
   "pygments_lexer": "ipython3",
   "version": "3.10.14"
  }
 },
 "nbformat": 4,
 "nbformat_minor": 5
}
