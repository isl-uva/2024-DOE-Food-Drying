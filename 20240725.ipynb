{
 "cells": [
  {
   "cell_type": "code",
   "execution_count": 2,
   "id": "2f69175d-5f39-49fa-bc12-93f106a8064e",
   "metadata": {},
   "outputs": [],
   "source": [
    "from gym import Env\n",
    "from gym.spaces import Discrete, Box, Tuple\n",
    "import numpy as np\n",
    "import random\n",
    "import matplotlib.pyplot as plt\n",
    "from pyfmi import load_fmu\n",
    "# from Dymola_Env import DymolaEnv, scale_and_clamp_values"
   ]
  },
  {
   "cell_type": "code",
   "execution_count": 4,
   "id": "c38ebedd-59dc-44d5-b07e-310fed6c9cff",
   "metadata": {},
   "outputs": [],
   "source": [
    "import json\n",
    "# Define the file path\n",
    "file_path = 'errorcontrol.json'\n",
    "\n",
    "# Read the JSON file\n",
    "with open(file_path, 'r') as file:\n",
    "    data = json.load(file)"
   ]
  },
  {
   "cell_type": "code",
   "execution_count": 3,
   "id": "a768bd23-d16a-4637-90ec-6b588fbd1b08",
   "metadata": {},
   "outputs": [
    {
     "name": "stdout",
     "output_type": "stream",
     "text": [
      "success boot\n",
      "success boot\n"
     ]
    },
    {
     "name": "stderr",
     "output_type": "stream",
     "text": [
      "/home/tianxu/anaconda3/envs/DOEmaddpg/lib/python3.10/site-packages/gym/spaces/box.py:127: UserWarning: \u001b[33mWARN: Box bound precision lowered by casting to float32\u001b[0m\n",
      "  logger.warn(f\"Box bound precision lowered by casting to {self.dtype}\")\n"
     ]
    }
   ],
   "source": [
    "env=DymolaEnv()\n",
    "env1=DymolaEnv()"
   ]
  },
  {
   "cell_type": "code",
   "execution_count": 5,
   "id": "1a22a9d6-be5f-4a84-b4d5-42b5b8b8a46f",
   "metadata": {},
   "outputs": [
    {
     "name": "stdout",
     "output_type": "stream",
     "text": [
      "reset activate\n",
      "reset activate\n"
     ]
    }
   ],
   "source": [
    "_state,info=env.reset()\n",
    "_state1,info1=env1.reset()"
   ]
  },
  {
   "cell_type": "code",
   "execution_count": 7,
   "id": "9901f6d7-d0e3-450d-b7c5-159c35c61812",
   "metadata": {},
   "outputs": [],
   "source": [
    "episodes=1"
   ]
  },
  {
   "cell_type": "code",
   "execution_count": 10,
   "id": "d5d32fd7-a45c-4eca-86c2-ca6b28c07662",
   "metadata": {},
   "outputs": [
    {
     "name": "stdout",
     "output_type": "stream",
     "text": [
      "Error end: time reset\n",
      "reset activate\n",
      ".868\n",
      "  Condition number estimate: 1\n",
      "  1-norm of the residual = 101152\n",
      "  The estimates indicate that the Jacobian is close to singular, suggesting that there is no solution.\n",
      "\n",
      "  Last value of the solution:\n",
      "  Last value of the residual:\n",
      " \n",
      "\n",
      "Warning: Failed to solve nonlinear system using Newton solver.\n",
      "  Time: 22120.37739262955\n",
      "  Tag: simulation.nonlinear[2]\n",
      "\n",
      "  For debugging help refer to the first error message of this type.\n",
      "\n",
      "  Jacobian inverse norm estimate: 129.868\n",
      "  Condition number estimate: 1\n",
      "  1-norm of the residual = 101152\n",
      "  The estimates indicate that the Jacobian is close to singular, suggesting that there is no solution.\n",
      "\n",
      "  Last value of the solution:\n",
      "  Last value of the residual:\n",
      " \n",
      "\n",
      "Warning: Failed to solve nonlinear system using Newton solver.\n",
      "  Time: 22120.37707135223\n",
      "  Tag: simulation.nonlinear[2]\n",
      "\n",
      "  For debugging help refer to the first error message of this type.\n",
      "\n",
      "  Jacobian inverse norm estimate: 129.868\n",
      "  Condition number estimate: 1\n",
      "  1-norm of the residual = 101152\n",
      "  The estimates indicate that the Jacobian is close to singular, suggesting that there is no solution.\n",
      "\n",
      "  Last value of the solution:\n",
      "  Last value of the residual:\n",
      " \n",
      "\n",
      "Warning: Failed to solve nonlinear system using Newton solver.\n",
      "  Time: 22148.45060476183\n",
      "  Tag: simulation.nonlinear[2]\n",
      "\n",
      "  Common causes:\n",
      "   * The system of equations has no solution - the residual will be above zero.\n",
      "     - In some cases the event-logic can cause this.\n",
      "   * Starting values are too far from the solution.\n",
      "     - In rare cases this could occur at events.\n",
      "   * The equations are too discontinuous for the nonlinear solver - the residual will have knees.\n",
      "     - Likely caused by over-using noEvent.\n",
      "\n",
      "  To get more information consider the options:\n",
      "   * Simulation/Setup/Translation/Generate listing of translated Modelica code in dsmodel.mof\n",
      "   * Simulation/Setup/Translation/List non-linear iteration variables\n",
      "   * The options under the group Simulation/Setup/Debug/Nonlinear solver diagnostics\n",
      "\n",
      "  Jacobian inverse norm estimate: 129.805\n",
      "  Condition number estimate: 1\n",
      "  1-norm of the residual = 101441\n",
      "  The estimates indicate that the Jacobian is close to singular, suggesting that there is no solution.\n",
      "\n",
      "  Last value of the solution:\n",
      "  Last value of the residual:\n",
      " \n",
      "\n",
      "Warning: Failed to solve nonlinear system using Newton solver.\n",
      "  Time: 22127.3953743853\n",
      "  Tag: simulation.nonlinear[2]\n",
      "\n",
      "  For debugging help refer to the first error message of this type.\n",
      "\n",
      "  Jacobian inverse norm estimate: 129.852\n",
      "  Condition number estimate: 1\n",
      "  1-norm of the residual = 101224\n",
      "  The estimates indicate that the Jacobian is close to singular, suggesting that there is no solution.\n",
      "\n",
      "  Last value of the solution:\n",
      "  Last value of the residual:\n",
      " \n",
      "\n",
      "Warning: Failed to solve nonlinear system using Newton solver.\n",
      "  Time: 22122.13156679117\n",
      "  Tag: simulation.nonlinear[2]\n",
      "\n",
      "  For debugging help refer to the first error message of this type.\n",
      "\n",
      "  Jacobian inverse norm estimate: 129.864\n",
      "  Condition number estimate: 1\n",
      "  1-norm of the residual = 101170\n",
      "  The estimates indicate that the Jacobian is close to singular, suggesting that there is no solution.\n",
      "\n",
      "  Last value of the solution:\n",
      "  Last value of the residual:\n",
      " \n",
      "\n",
      "Warning: Failed to solve nonlinear system using Newton solver.\n",
      "  Time: 22120.81561489263\n",
      "  Tag: simulation.nonlinear[2]\n",
      "\n",
      "  For debugging help refer to the first error message of this type.\n",
      "\n",
      "  Jacobian inverse norm estimate: 129.867\n",
      "  Condition number estimate: 1\n",
      "  1-norm of the residual = 101157\n",
      "  The estimates indicate that the Jacobian is close to singular, suggesting that there is no solution.\n",
      "\n",
      "  Last value of the solution:\n",
      "  Last value of the residual:\n",
      " \n",
      "\n",
      "Warning: Failed to solve nonlinear system using Newton solver.\n",
      "  Time: 22120.486626918\n",
      "  Tag: simulation.nonlinear[2]\n",
      "\n",
      "  For debugging help refer to the first error message of this type.\n",
      "\n",
      "  Jacobian inverse norm estimate: 129.868\n",
      "  Condition number estimate: 1\n",
      "  1-norm of the residual = 101153\n",
      "  The estimates indicate that the Jacobian is close to singular, suggesting that there is no solution.\n",
      "\n",
      "  Last value of the solution:\n",
      "  Last value of the resi"
     ]
    }
   ],
   "source": [
    "for episode in range(1, episodes+1):\n",
    "     \n",
    "    n_state,info=env.reset()\n",
    "    done = False\n",
    "    score = 0\n",
    "    count=0\n",
    "\n",
    "    for count in range(len(data)):\n",
    "        #action=[0.4,env.action_space[0].sample().item(),env.action_space[1].sample().item(),0.5,273.15+46,env.action_space[2].sample().item()]\n",
    "        action=data[count]\n",
    "        n_state, reward_env, done_env, info = env.step(action)\n",
    "        reward=reward_env['agent_0']\n",
    "        done=done_env['agent_0']\n",
    "        \n",
    "        score+=reward\n",
    "\n",
    "        \n",
    "\n",
    "      "
   ]
  },
  {
   "cell_type": "code",
   "execution_count": 11,
   "id": "c6b0d4cb-0dc7-4d3d-bae0-778429e79602",
   "metadata": {},
   "outputs": [],
   "source": [
    "n_state, reward_env, done_env, info = env1.step(action)"
   ]
  },
  {
   "cell_type": "code",
   "execution_count": 12,
   "id": "11af17d8-6317-438c-9504-8d8aee28962b",
   "metadata": {},
   "outputs": [
    {
     "data": {
      "text/plain": [
       "[119.7278911564626,\n",
       " 276.94633408920015,\n",
       " 0.06820000000000048,\n",
       " 4540.90880908403,\n",
       " 7089.704390444275,\n",
       " 8198.166043626516,\n",
       " 304.14973845642754,\n",
       " 0.5619676623829627,\n",
       " 0.015593930988888888,\n",
       " 332.9835938414662,\n",
       " 0.12062160393790723,\n",
       " 0.014757901093991211,\n",
       " 353.15,\n",
       " 0.05018056453374868,\n",
       " 0.01477180102645854,\n",
       " 313.2404402170926,\n",
       " 0.009326187668585458,\n",
       " 0.0004244382010706836,\n",
       " 278.42256059727407,\n",
       " 0.5295532571165006,\n",
       " 0.0028961567616111994,\n",
       " 304.14973845642754,\n",
       " 0.5606910057851261,\n",
       " 0.015593930988888888,\n",
       " 301.5349176579945,\n",
       " 0.009762334791901504,\n",
       " 0.00022871520542523996,\n",
       " 319.15,\n",
       " 0.003689987754948252,\n",
       " 0.00022871520542523996]"
      ]
     },
     "execution_count": 12,
     "metadata": {},
     "output_type": "execute_result"
    }
   ],
   "source": [
    "env1.state"
   ]
  },
  {
   "cell_type": "code",
   "execution_count": 13,
   "id": "c7912ec3-d875-49e0-96ff-ac3fdf0315f8",
   "metadata": {},
   "outputs": [
    {
     "data": {
      "text/plain": [
       "[119.7278911564626,\n",
       " 276.9463340891902,\n",
       " 0.06820000000000206,\n",
       " 161.31823747661255,\n",
       " 0.00040581600000000003,\n",
       " 4119.352539948382,\n",
       " 300.26739337478926,\n",
       " 0.7385814264961769,\n",
       " 0.016384409668953877,\n",
       " 353.4922510375135,\n",
       " 0.05475028738620827,\n",
       " 0.0163405555562786,\n",
       " 353.15,\n",
       " 0.05474166071392798,\n",
       " 0.01634949033563976,\n",
       " 245.14439779748315,\n",
       " 0.2899204090236303,\n",
       " -0.03776400546337044,\n",
       " 298.8432674909701,\n",
       " 0.9338142970915906,\n",
       " 0.019155888607813528,\n",
       " 300.26739337478926,\n",
       " 0.736903545517799,\n",
       " 0.016384409668953877,\n",
       " 320.5188064152146,\n",
       " 0.1416164129878731,\n",
       " 0.009720082846453924,\n",
       " 321.0496848753547,\n",
       " 0.14159404705566858,\n",
       " 0.009720082846453924]"
      ]
     },
     "execution_count": 13,
     "metadata": {},
     "output_type": "execute_result"
    }
   ],
   "source": [
    "env.state"
   ]
  },
  {
   "cell_type": "code",
   "execution_count": 14,
   "id": "884bd12e-2b8d-4b04-a8fb-e04981782cd0",
   "metadata": {},
   "outputs": [
    {
     "data": {
      "text/plain": [
       "300"
      ]
     },
     "execution_count": 14,
     "metadata": {},
     "output_type": "execute_result"
    }
   ],
   "source": [
    "env1.current_time"
   ]
  },
  {
   "cell_type": "code",
   "execution_count": 15,
   "id": "a3dcc778-1774-432d-82f4-2d6505f7f0a1",
   "metadata": {},
   "outputs": [
    {
     "data": {
      "text/plain": [
       "22500"
      ]
     },
     "execution_count": 15,
     "metadata": {},
     "output_type": "execute_result"
    }
   ],
   "source": [
    "env.current_time"
   ]
  },
  {
   "cell_type": "code",
   "execution_count": 18,
   "id": "f53c4af6-50d0-4609-8c7c-946c46b56a5d",
   "metadata": {},
   "outputs": [
    {
     "name": "stdout",
     "output_type": "stream",
     "text": [
      "The mapped values are [15. 20. 60.]\n"
     ]
    }
   ],
   "source": [
    "import numpy as np\n",
    "\n",
    "def map_array(values, lower_bounds, upper_bounds):\n",
    "    \"\"\"\n",
    "    Maps an array of values from the range [-1, 1] to new ranges defined by\n",
    "    lower_bounds and upper_bounds arrays. Values outside the range [-1, 1] are\n",
    "    clamped to the nearest bound (-1 or 1).\n",
    "\n",
    "    :param values: The array of values to be mapped.\n",
    "    :param lower_bounds: The array of lower bounds for the new ranges.\n",
    "    :param upper_bounds: The array of upper bounds for the new ranges.\n",
    "    :return: The array of mapped values in the new ranges.\n",
    "    \"\"\"\n",
    "    values = np.array(values)\n",
    "    lower_bounds = np.array(lower_bounds)\n",
    "    upper_bounds = np.array(upper_bounds)\n",
    "    \n",
    "    if len(values) != len(lower_bounds) or len(values) != len(upper_bounds):\n",
    "        raise ValueError(\"The lengths of values, lower_bounds, and upper_bounds must be equal\")\n",
    "    \n",
    "    # Clamp values to the range [-1, 1]\n",
    "    values = np.clip(values, -1, 1)\n",
    "    \n",
    "    # Perform the mapping\n",
    "    mapped_values = ((values + 1) / 2) * (upper_bounds - lower_bounds) + lower_bounds\n",
    "    return mapped_values\n",
    "\n",
    "# Example usage\n",
    "values = [0, -1.5, 2.0]\n",
    "lower_bounds = [10, 20, 30]\n",
    "upper_bounds = [20, 40, 60]\n",
    "\n",
    "mapped_values = map_array(values, lower_bounds, upper_bounds)\n",
    "print(f\"The mapped values are {mapped_values}\")\n"
   ]
  },
  {
   "cell_type": "code",
   "execution_count": 19,
   "id": "2293e59c-6462-4f68-be0d-78f9b50896f6",
   "metadata": {},
   "outputs": [],
   "source": [
    "from gym.spaces import Discrete, Box, Tuple"
   ]
  },
  {
   "cell_type": "code",
   "execution_count": 20,
   "id": "df93dcb2-8160-4be2-826d-593b2c36a26c",
   "metadata": {},
   "outputs": [],
   "source": [
    "action_space = Box(low=np.array([0.25, 1, 273.15]), high=np.array([0.8, 100, 273.15+65]), dtype=np.float32)"
   ]
  },
  {
   "cell_type": "code",
   "execution_count": 22,
   "id": "7c6bbc1e-0a9c-44e0-9503-e58b8aedb4ba",
   "metadata": {},
   "outputs": [
    {
     "ename": "TypeError",
     "evalue": "object of type 'Box' has no len()",
     "output_type": "error",
     "traceback": [
      "\u001b[0;31m---------------------------------------------------------------------------\u001b[0m",
      "\u001b[0;31mTypeError\u001b[0m                                 Traceback (most recent call last)",
      "Cell \u001b[0;32mIn[22], line 1\u001b[0m\n\u001b[0;32m----> 1\u001b[0m \u001b[38;5;28;43mlen\u001b[39;49m\u001b[43m(\u001b[49m\u001b[43maction_space\u001b[49m\u001b[43m)\u001b[49m\n",
      "\u001b[0;31mTypeError\u001b[0m: object of type 'Box' has no len()"
     ]
    }
   ],
   "source": [
    "len(action_space)"
   ]
  },
  {
   "cell_type": "code",
   "execution_count": 25,
   "id": "ba3fa987-cff9-44fd-a103-9668a34f36eb",
   "metadata": {},
   "outputs": [
    {
     "data": {
      "text/plain": [
       "3"
      ]
     },
     "execution_count": 25,
     "metadata": {},
     "output_type": "execute_result"
    }
   ],
   "source": [
    "action_space.shape[0]"
   ]
  },
  {
   "cell_type": "code",
   "execution_count": null,
   "id": "d5791de5-d0d2-4b0d-babe-d8171e5c77ea",
   "metadata": {},
   "outputs": [],
   "source": []
  }
 ],
 "metadata": {
  "kernelspec": {
   "display_name": "Python 3 (ipykernel)",
   "language": "python",
   "name": "python3"
  },
  "language_info": {
   "codemirror_mode": {
    "name": "ipython",
    "version": 3
   },
   "file_extension": ".py",
   "mimetype": "text/x-python",
   "name": "python",
   "nbconvert_exporter": "python",
   "pygments_lexer": "ipython3",
   "version": "3.10.14"
  }
 },
 "nbformat": 4,
 "nbformat_minor": 5
}
