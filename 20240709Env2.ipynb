{
 "cells": [
  {
   "cell_type": "code",
   "execution_count": 1,
   "id": "32645211-05f3-49d4-9997-90c3d7b1ba9f",
   "metadata": {},
   "outputs": [
    {
     "name": "stdout",
     "output_type": "stream",
     "text": [
      "Action, 1 continuous ctrl 2.1\n",
      "Action, 0 continuous ctrl -1.1\n"
     ]
    }
   ],
   "source": [
    "import gym\n",
    "from gym.spaces import Dict, Discrete, Box, Tuple\n",
    "import numpy as np\n",
    "\n",
    "\n",
    "class SampleGym(gym.Env):\n",
    "    def __init__(self, config={}):\n",
    "        self.config = config\n",
    "        self.action_space = Tuple((Discrete(2), Box(-10, 10, (2,))))\n",
    "        self.observation_space = Box(-10, 10, (2, 2))\n",
    "        self.p_done = config.get(\"p_done\", 0.1)\n",
    "\n",
    "    def reset(self):\n",
    "        return self.observation_space.sample()\n",
    "\n",
    "    def step(self, action):\n",
    "        chosen_action = action[0]\n",
    "        cnt_control = action[1][chosen_action]\n",
    "\n",
    "        if chosen_action == 0:\n",
    "            reward = cnt_control\n",
    "        else:\n",
    "            reward = -cnt_control - 1\n",
    "\n",
    "        print(f\"Action, {chosen_action} continuous ctrl {cnt_control}\")\n",
    "        return (\n",
    "            self.observation_space.sample(),\n",
    "            reward,\n",
    "            bool(np.random.choice([True, False], p=[self.p_done, 1.0 - self.p_done])),\n",
    "            {},\n",
    "        )\n",
    "\n",
    "\n",
    "if __name__ == \"__main__\":\n",
    "    env = SampleGym()\n",
    "    env.reset()\n",
    "    env.step((1, [-1, 2.1]))  # should say use action 1 with 2.1\n",
    "    env.step((0, [-1.1, 2.1]))  # should say use action 0 with -1.1"
   ]
  },
  {
   "cell_type": "code",
   "execution_count": null,
   "id": "18bc987c-9179-4e6c-bff5-10f19aea5157",
   "metadata": {},
   "outputs": [],
   "source": []
  }
 ],
 "metadata": {
  "kernelspec": {
   "display_name": "Python 3 (ipykernel)",
   "language": "python",
   "name": "python3"
  },
  "language_info": {
   "codemirror_mode": {
    "name": "ipython",
    "version": 3
   },
   "file_extension": ".py",
   "mimetype": "text/x-python",
   "name": "python",
   "nbconvert_exporter": "python",
   "pygments_lexer": "ipython3",
   "version": "3.10.14"
  }
 },
 "nbformat": 4,
 "nbformat_minor": 5
}
