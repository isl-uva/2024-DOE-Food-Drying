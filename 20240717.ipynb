{
 "cells": [
  {
   "cell_type": "code",
   "execution_count": 13,
   "id": "581dc6dd-f901-4b4b-a56a-7d370fdd5d4d",
   "metadata": {},
   "outputs": [],
   "source": [
    "from gym import Env\n",
    "from gym.spaces import Discrete, Box, Tuple\n",
    "import numpy as np\n",
    "import random\n",
    "import matplotlib.pyplot as plt\n",
    "from pyfmi import load_fmu\n",
    "from Dymola_Env import DymolaEnv, scale_and_clamp_values"
   ]
  },
  {
   "cell_type": "code",
   "execution_count": 14,
   "id": "11b63aa0-0a73-4a69-883c-1947f4a26b83",
   "metadata": {},
   "outputs": [],
   "source": [
    "import json\n",
    "# Define the file path\n",
    "file_path = 'errorcontrol.json'\n",
    "\n",
    "# Read the JSON file\n",
    "with open(file_path, 'r') as file:\n",
    "    data = json.load(file)"
   ]
  },
  {
   "cell_type": "code",
   "execution_count": 15,
   "id": "94c8947b-7979-4baf-ae0e-42bca1f90c65",
   "metadata": {},
   "outputs": [
    {
     "name": "stdout",
     "output_type": "stream",
     "text": [
      "success boot\n",
      "reset activate\n",
      ".868\n",
      "  Condition number estimate: 1\n",
      "  1-norm of the residual = 101152\n",
      "  The estimates indicate that the Jacobian is close to singular, suggesting that there is no solution.\n",
      "\n",
      "  Last value of the solution:\n",
      "  Last value of the residual:\n",
      " \n",
      "\n",
      "Warning: Failed to solve nonlinear system using Newton solver.\n",
      "  Time: 22120.37739262955\n",
      "  Tag: simulation.nonlinear[2]\n",
      "\n",
      "  For debugging help refer to the first error message of this type.\n",
      "\n",
      "  Jacobian inverse norm estimate: 129.868\n",
      "  Condition number estimate: 1\n",
      "  1-norm of the residual = 101152\n",
      "  The estimates indicate that the Jacobian is close to singular, suggesting that there is no solution.\n",
      "\n",
      "  Last value of the solution:\n",
      "  Last value of the residual:\n",
      " \n",
      "\n",
      "Warning: Failed to solve nonlinear system using Newton solver.\n",
      "  Time: 22120.37707135223\n",
      "  Tag: simulation.nonlinear[2]\n",
      "\n",
      "  For debugging help refer to the first error message of this type.\n",
      "\n",
      "  Jacobian inverse norm estimate: 129.868\n",
      "  Condition number estimate: 1\n",
      "  1-norm of the residual = 101152\n",
      "  The estimates indicate that the Jacobian is close to singular, suggesting that there is no solution.\n",
      "\n",
      "  Last value of the solution:\n",
      "  Last value of the residual:\n",
      " \n",
      "\n",
      "Warning: Failed to solve nonlinear system using Newton solver.\n",
      "  Time: 22148.45060476183\n",
      "  Tag: simulation.nonlinear[2]\n",
      "\n",
      "  Common causes:\n",
      "   * The system of equations has no solution - the residual will be above zero.\n",
      "     - In some cases the event-logic can cause this.\n",
      "   * Starting values are too far from the solution.\n",
      "     - In rare cases this could occur at events.\n",
      "   * The equations are too discontinuous for the nonlinear solver - the residual will have knees.\n",
      "     - Likely caused by over-using noEvent.\n",
      "\n",
      "  To get more information consider the options:\n",
      "   * Simulation/Setup/Translation/Generate listing of translated Modelica code in dsmodel.mof\n",
      "   * Simulation/Setup/Translation/List non-linear iteration variables\n",
      "   * The options under the group Simulation/Setup/Debug/Nonlinear solver diagnostics\n",
      "\n",
      "  Jacobian inverse norm estimate: 129.805\n",
      "  Condition number estimate: 1\n",
      "  1-norm of the residual = 101441\n",
      "  The estimates indicate that the Jacobian is close to singular, suggesting that there is no solution.\n",
      "\n",
      "  Last value of the solution:\n",
      "  Last value of the residual:\n",
      " \n",
      "\n",
      "Warning: Failed to solve nonlinear system using Newton solver.\n",
      "  Time: 22127.3953743853\n",
      "  Tag: simulation.nonlinear[2]\n",
      "\n",
      "  For debugging help refer to the first error message of this type.\n",
      "\n",
      "  Jacobian inverse norm estimate: 129.852\n",
      "  Condition number estimate: 1\n",
      "  1-norm of the residual = 101224\n",
      "  The estimates indicate that the Jacobian is close to singular, suggesting that there is no solution.\n",
      "\n",
      "  Last value of the solution:\n",
      "  Last value of the residual:\n",
      " \n",
      "\n",
      "Warning: Failed to solve nonlinear system using Newton solver.\n",
      "  Time: 22122.13156679117\n",
      "  Tag: simulation.nonlinear[2]\n",
      "\n",
      "  For debugging help refer to the first error message of this type.\n",
      "\n",
      "  Jacobian inverse norm estimate: 129.864\n",
      "  Condition number estimate: 1\n",
      "  1-norm of the residual = 101170\n",
      "  The estimates indicate that the Jacobian is close to singular, suggesting that there is no solution.\n",
      "\n",
      "  Last value of the solution:\n",
      "  Last value of the residual:\n",
      " \n",
      "\n",
      "Warning: Failed to solve nonlinear system using Newton solver.\n",
      "  Time: 22120.81561489263\n",
      "  Tag: simulation.nonlinear[2]\n",
      "\n",
      "  For debugging help refer to the first error message of this type.\n",
      "\n",
      "  Jacobian inverse norm estimate: 129.867\n",
      "  Condition number estimate: 1\n",
      "  1-norm of the residual = 101157\n",
      "  The estimates indicate that the Jacobian is close to singular, suggesting that there is no solution.\n",
      "\n",
      "  Last value of the solution:\n",
      "  Last value of the residual:\n",
      " \n",
      "\n",
      "Warning: Failed to solve nonlinear system using Newton solver.\n",
      "  Time: 22120.486626918\n",
      "  Tag: simulation.nonlinear[2]\n",
      "\n",
      "  For debugging help refer to the first error message of this type.\n",
      "\n",
      "  Jacobian inverse norm estimate: 129.868\n",
      "  Condition number estimate: 1\n",
      "  1-norm of the residual = 101153\n",
      "  The estimates indicate that the Jacobian is close to singular, suggesting that there is no solution.\n",
      "\n",
      "  Last value of the solution:\n",
      "  Last value of the resi"
     ]
    },
    {
     "ename": "IndexError",
     "evalue": "list index out of range",
     "output_type": "error",
     "traceback": [
      "\u001b[0;31m---------------------------------------------------------------------------\u001b[0m",
      "\u001b[0;31mIndexError\u001b[0m                                Traceback (most recent call last)",
      "Cell \u001b[0;32mIn[15], line 23\u001b[0m\n\u001b[1;32m     19\u001b[0m count\u001b[38;5;241m=\u001b[39m\u001b[38;5;241m0\u001b[39m\n\u001b[1;32m     21\u001b[0m \u001b[38;5;28;01mwhile\u001b[39;00m \u001b[38;5;129;01mnot\u001b[39;00m done:\n\u001b[1;32m     22\u001b[0m     \u001b[38;5;66;03m#action=[0.4,env.action_space[0].sample().item(),env.action_space[1].sample().item(),0.5,273.15+46,env.action_space[2].sample().item()]\u001b[39;00m\n\u001b[0;32m---> 23\u001b[0m     action\u001b[38;5;241m=\u001b[39m\u001b[43mdata\u001b[49m\u001b[43m[\u001b[49m\u001b[43mcount\u001b[49m\u001b[43m]\u001b[49m\n\u001b[1;32m     24\u001b[0m     n_state, reward_env, done_env, info \u001b[38;5;241m=\u001b[39m env\u001b[38;5;241m.\u001b[39mstep(action)\n\u001b[1;32m     25\u001b[0m     reward\u001b[38;5;241m=\u001b[39mreward_env[\u001b[38;5;124m'\u001b[39m\u001b[38;5;124magent_0\u001b[39m\u001b[38;5;124m'\u001b[39m]\n",
      "\u001b[0;31mIndexError\u001b[0m: list index out of range"
     ]
    }
   ],
   "source": [
    "env=DymolaEnv()\n",
    "episodes=1\n",
    "\n",
    "\n",
    "for episode in range(1, episodes+1):\n",
    "    time=[]\n",
    "    Temp_fc=[]\n",
    "    RH_fc=[]\n",
    "    Energy=[]\n",
    "    Flow_r=[]\n",
    "    N=[]\n",
    "    Tset2=[]\n",
    "    score_all=[]\n",
    "\n",
    "    \n",
    "    n_state,info=env.reset()\n",
    "    done = False\n",
    "    score = 0\n",
    "    count=0\n",
    "\n",
    "    while not done:\n",
    "        #action=[0.4,env.action_space[0].sample().item(),env.action_space[1].sample().item(),0.5,273.15+46,env.action_space[2].sample().item()]\n",
    "        action=data[count]\n",
    "        n_state, reward_env, done_env, info = env.step(action)\n",
    "        reward=reward_env['agent_0']\n",
    "        done=done_env['agent_0']\n",
    "        \n",
    "        score+=reward\n",
    "\n",
    "        \n",
    "\n",
    "        count+=1\n",
    "\n",
    "        score_all.append(score)\n",
    "        time.append(env.current_time/60.0)\n",
    "        Temp_fc.append(env.state[27]-273.15)\n",
    "        RH_fc.append(100*env.state[28])\n",
    "        Energy.append(env.energy)\n",
    "        Flow_r.append(action[1])\n",
    "        N.append(action[2])\n",
    "        Tset2.append(action[5]-273.15)"
   ]
  },
  {
   "cell_type": "code",
   "execution_count": 2,
   "id": "b60da65a-fc4d-4e01-930b-23bd65a3ecf9",
   "metadata": {},
   "outputs": [
    {
     "name": "stdout",
     "output_type": "stream",
     "text": [
      "[[0.4, 0.5823183059692383, 24.87247657775879, 0.5, 319.15, 284.97906494140625], [0.4, 0.5048177242279053, 8.944698333740234, 0.5, 319.15, 274.57476806640625], [0.4, 0.40000000000061803, 99.99756455421448, 0.5, 319.15, 313.150272452944], [0.4, 0.4000000000399783, 99.99380946159363, 0.5, 319.15, 313.15068348635975], [0.4, 0.4000000000368303, 99.99605178833008, 0.5, 319.15, 313.1505782908556], [0.4, 0.4000000000352465, 99.9953544139862, 0.5, 319.15, 313.15062709441406], [0.4, 0.4000000000304236, 99.9914276599884, 0.5, 319.15, 313.1508994352538], [0.4, 0.40000000003247643, 99.99280095100403, 0.5, 319.15, 313.1508098653052], [0.4, 0.40000000003363306, 99.99325156211853, 0.5, 319.15, 313.15077422322645], [0.4, 0.4000000000345079, 99.99378800392151, 0.5, 319.15, 313.1507333072426], [0.4, 0.40000000003546715, 99.99449610710144, 0.5, 319.15, 313.15067904380555], [0.4, 0.4000000000311415, 99.99076247215271, 0.5, 319.15, 313.1509279210644], [0.4, 0.40000000003307795, 99.99179244041443, 0.5, 319.15, 313.1508633820107], [0.4, 0.40000000003478814, 99.99289751052856, 0.5, 319.15, 313.150790306658], [0.4, 0.40000000003594743, 99.99372363090515, 0.5, 319.15, 313.15073110204537], [0.4, 0.4000000000365348, 99.99413132667542, 0.5, 319.15, 313.1506974075222], [0.4, 0.40000000003220454, 99.99044060707092, 0.5, 319.15, 313.15094262053606], [0.4, 0.4000000000344331, 99.99161005020142, 0.5, 319.15, 313.15087151121986], [0.4, 0.4000000000360256, 99.99255418777466, 0.5, 319.15, 313.1508100452396], [0.4, 0.4000000000370674, 99.99327301979065, 0.5, 319.15, 313.15076006508605], [0.4, 0.40000000003791547, 99.99390602111816, 0.5, 319.15, 313.15070864865845], [0.4, 0.40000000003323977, 99.9900758266449, 0.5, 319.15, 313.150962663762], [0.4, 0.4000000000355621, 99.99121308326721, 0.5, 319.15, 313.15089517634476], [0.4, 0.4000000000373028, 99.99231815338135, 0.5, 319.15, 313.1508248913218], [0.4, 0.4000000000383987, 99.993155002594, 0.5, 319.15, 313.1507674902008], [0.4, 0.40000000003908204, 99.99364852905273, 0.5, 319.15, 313.15072644354075], [0.4, 0.400000000034431, 99.98981833457947, 0.5, 319.15, 313.150977041127], [0.4, 0.40000000003670966, 99.99111652374268, 0.5, 319.15, 313.15089985653174], [0.4, 0.4000000000383015, 99.99206066131592, 0.5, 319.15, 313.1508392998279], [0.4, 0.40000000003944164, 99.99290823936462, 0.5, 319.15, 313.15078278470025], [0.4, 0.4000000000401756, 99.9934983253479, 0.5, 319.15, 313.15073586554206], [0.4, 0.40000000003534025, 99.98953938484192, 0.5, 319.15, 313.1509908060019], [0.4, 0.4000000000393876, 99.99188899993896, 0.5, 319.15, 313.1508492812776]]\n"
     ]
    }
   ],
   "source": [
    "print(data)"
   ]
  },
  {
   "cell_type": "code",
   "execution_count": 7,
   "id": "db3bc041-65ab-4611-96d4-8c17788466a5",
   "metadata": {},
   "outputs": [],
   "source": [
    "# Define the file path\n",
    "file_path = 'ErrorInput.txt'\n",
    "\n",
    "# Initialize an empty list to store all rows\n",
    "data = []\n",
    "\n",
    "# Read the file\n",
    "with open(file_path, 'r') as file:\n",
    "    for line in file:\n",
    "        # Strip any surrounding whitespace and parse the line as a list of floats\n",
    "        row = eval(line.strip())\n",
    "        data.append(row)"
   ]
  },
  {
   "cell_type": "code",
   "execution_count": 3,
   "id": "8963eb44-4eb8-46cb-9512-3ab79e1f68d5",
   "metadata": {},
   "outputs": [
    {
     "data": {
      "text/plain": [
       "[0.4, 0.5048177242279053, 8.944698333740234, 0.5, 319.15, 274.57476806640625]"
      ]
     },
     "execution_count": 3,
     "metadata": {},
     "output_type": "execute_result"
    }
   ],
   "source": [
    "data[1]"
   ]
  },
  {
   "cell_type": "code",
   "execution_count": 9,
   "id": "f264c427-68ac-41b5-8508-5801c550859c",
   "metadata": {},
   "outputs": [
    {
     "data": {
      "text/plain": [
       "33"
      ]
     },
     "execution_count": 9,
     "metadata": {},
     "output_type": "execute_result"
    }
   ],
   "source": [
    "len(data)"
   ]
  },
  {
   "cell_type": "code",
   "execution_count": null,
   "id": "bd684833-cd34-412e-9eae-acc74f71572a",
   "metadata": {},
   "outputs": [],
   "source": []
  }
 ],
 "metadata": {
  "kernelspec": {
   "display_name": "Python 3 (ipykernel)",
   "language": "python",
   "name": "python3"
  },
  "language_info": {
   "codemirror_mode": {
    "name": "ipython",
    "version": 3
   },
   "file_extension": ".py",
   "mimetype": "text/x-python",
   "name": "python",
   "nbconvert_exporter": "python",
   "pygments_lexer": "ipython3",
   "version": "3.10.14"
  }
 },
 "nbformat": 4,
 "nbformat_minor": 5
}
